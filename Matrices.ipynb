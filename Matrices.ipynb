{
 "cells": [
  {
   "cell_type": "markdown",
   "metadata": {},
   "source": [
    "# III. Working with Matrices\n",
    "\n",
    "One of Matlab's strenths is numerical computation and doing matrix operations. It's easy to create and manipulate matrices in Matlab."
   ]
  },
  {
   "cell_type": "markdown",
   "metadata": {},
   "source": [
    "Let's create a simple 4x4 matrix and check its size:"
   ]
  },
  {
   "cell_type": "code",
   "execution_count": 1,
   "metadata": {},
   "outputs": [
    {
     "name": "stdout",
     "output_type": "stream",
     "text": [
      "\n",
      "A =\n",
      "\n",
      "     1     2     3     4\n",
      "     5     6     7     8\n",
      "     9    10    11    12\n",
      "    13    14    15    16\n",
      "\n"
     ]
    }
   ],
   "source": [
    "A = [1 2 3 4; 5 6 7 8; 9 10 11 12; 13 14 15 16]"
   ]
  },
  {
   "cell_type": "code",
   "execution_count": 14,
   "metadata": {},
   "outputs": [
    {
     "name": "stdout",
     "output_type": "stream",
     "text": [
      "\n",
      "ans =\n",
      "\n",
      "     4     4\n",
      "\n"
     ]
    }
   ],
   "source": [
    "size(A)"
   ]
  },
  {
   "cell_type": "markdown",
   "metadata": {},
   "source": [
    "We can create a 2x2 matrix of zeros:"
   ]
  },
  {
   "cell_type": "code",
   "execution_count": 3,
   "metadata": {},
   "outputs": [
    {
     "name": "stdout",
     "output_type": "stream",
     "text": [
      "\n",
      "ans =\n",
      "\n",
      "     0     0\n",
      "     0     0\n",
      "\n"
     ]
    }
   ],
   "source": [
    "zeros(2)"
   ]
  },
  {
   "cell_type": "markdown",
   "metadata": {},
   "source": [
    "Or a 3x4 matrix of ones:"
   ]
  },
  {
   "cell_type": "code",
   "execution_count": 4,
   "metadata": {},
   "outputs": [
    {
     "name": "stdout",
     "output_type": "stream",
     "text": [
      "\n",
      "ans =\n",
      "\n",
      "     1     1     1     1\n",
      "     1     1     1     1\n",
      "     1     1     1     1\n",
      "\n"
     ]
    }
   ],
   "source": [
    "ones(3,4)"
   ]
  },
  {
   "cell_type": "markdown",
   "metadata": {},
   "source": [
    "To create the identity matrix use the eye command:"
   ]
  },
  {
   "cell_type": "code",
   "execution_count": 5,
   "metadata": {},
   "outputs": [
    {
     "name": "stdout",
     "output_type": "stream",
     "text": [
      "\n",
      "ans =\n",
      "\n",
      "     1     0     0     0\n",
      "     0     1     0     0\n",
      "     0     0     1     0\n",
      "     0     0     0     1\n",
      "\n"
     ]
    }
   ],
   "source": [
    "eye(4)"
   ]
  },
  {
   "cell_type": "markdown",
   "metadata": {},
   "source": [
    "A random matrix where each element is uniformly distributed between 0 and 1:"
   ]
  },
  {
   "cell_type": "code",
   "execution_count": 6,
   "metadata": {},
   "outputs": [
    {
     "name": "stdout",
     "output_type": "stream",
     "text": [
      "\n",
      "ans =\n",
      "\n",
      "    0.8147    0.9134    0.2785\n",
      "    0.9058    0.6324    0.5469\n",
      "    0.1270    0.0975    0.9575\n",
      "\n"
     ]
    }
   ],
   "source": [
    "rand(3)"
   ]
  },
  {
   "cell_type": "code",
   "execution_count": 8,
   "metadata": {},
   "outputs": [
    {
     "name": "stdout",
     "output_type": "stream",
     "text": [
      "\n",
      "A =\n",
      "\n",
      "     1     2     3     4\n",
      "     5     6     7     8\n",
      "     9    10    11    12\n",
      "    13    14    15    16\n",
      "\n"
     ]
    }
   ],
   "source": [
    "A"
   ]
  },
  {
   "cell_type": "markdown",
   "metadata": {},
   "source": [
    "A common operation is to create matrices using other matrices. Matrices can be constructed in block form. Here we create a matrix \"result\" using the matrices \"B\", \"C\", \"D\", and \"E\":"
   ]
  },
  {
   "cell_type": "code",
   "execution_count": 11,
   "metadata": {},
   "outputs": [
    {
     "name": "stdout",
     "output_type": "stream",
     "text": [
      "\n",
      "result =\n",
      "\n",
      "     2     2     1     0\n",
      "     2     2     0     1\n",
      "     1     1     3     3\n",
      "     1     1     3     3\n",
      "\n"
     ]
    }
   ],
   "source": [
    "B = [2 2;2 2];\n",
    "C = eye(2);\n",
    "D = ones(2);\n",
    "E = [3 3;3 3];\n",
    "result = [B C; D E]"
   ]
  },
  {
   "cell_type": "markdown",
   "metadata": {},
   "source": [
    "The repmat function is very useful Matlab built-in used to construct tiled block matrices."
   ]
  },
  {
   "cell_type": "code",
   "execution_count": 12,
   "metadata": {},
   "outputs": [
    {
     "name": "stdout",
     "output_type": "stream",
     "text": [
      "\n",
      "ans =\n",
      "\n",
      "     2     2     1     0     2     2     1     0\n",
      "     2     2     0     1     2     2     0     1\n",
      "     1     1     3     3     1     1     3     3\n",
      "     1     1     3     3     1     1     3     3\n",
      "     2     2     1     0     2     2     1     0\n",
      "     2     2     0     1     2     2     0     1\n",
      "     1     1     3     3     1     1     3     3\n",
      "     1     1     3     3     1     1     3     3\n",
      "     2     2     1     0     2     2     1     0\n",
      "     2     2     0     1     2     2     0     1\n",
      "     1     1     3     3     1     1     3     3\n",
      "     1     1     3     3     1     1     3     3\n",
      "\n"
     ]
    }
   ],
   "source": [
    "repmat(result,3,2)"
   ]
  },
  {
   "cell_type": "code",
   "execution_count": 13,
   "metadata": {},
   "outputs": [
    {
     "name": "stdout",
     "output_type": "stream",
     "text": [
      " REPMAT Replicate and tile an array.\n",
      "    B = REPMAT(A,M,N) or B = REPMAT(A,[M,N]) creates a large matrix B \n",
      "    consisting of an M-by-N tiling of copies of A. If A is a matrix, \n",
      "    the size of B is [size(A,1)*M, size(A,2)*N].\n",
      " \n",
      "    B = REPMAT(A,N) creates an N-by-N tiling.  \n",
      "    \n",
      "    B = REPMAT(A,P1,P2,...,Pn) or B = REPMAT(A,[P1,P2,...,Pn]) tiles the array \n",
      "    A to produce an n-dimensional array B composed of copies of A. The size \n",
      "    of B is [size(A,1)*P1, size(A,2)*P2, ..., size(A,n)*Pn].\n",
      "    If A is m-dimensional with m > n, an m-dimensional array B is returned.\n",
      "    In this case, the size of B is [size(A,1)*P1, size(A,2)*P2, ..., \n",
      "    size(A,n)*Pn, size(A, n+1), ..., size(A, m)].\n",
      " \n",
      "    REPMAT(A,M,N) when A is a scalar is commonly used to produce an M-by-N\n",
      "    matrix filled with A's value and having A's CLASS. For certain values,\n",
      "    you may achieve the same results using other functions. Namely,\n",
      "       REPMAT(NAN,M,N)           is the same as   NAN(M,N)\n",
      "       REPMAT(SINGLE(INF),M,N)   is the same as   INF(M,N,'single')\n",
      "       REPMAT(INT8(0),M,N)       is the same as   ZEROS(M,N,'int8')\n",
      "       REPMAT(UINT32(1),M,N)     is the same as   ONES(M,N,'uint32')\n",
      "       REPMAT(EPS,M,N)           is the same as   EPS(ONES(M,N))\n",
      " \n",
      "    Example:\n",
      "        repmat(magic(2), 2, 3)\n",
      "        repmat(uint8(5), 2, 3)\n",
      " \n",
      "    Class support for input A:\n",
      "       float: double, single\n",
      "       integer: uint8, int8, uint16, int16, uint32, int32, uint64, int64\n",
      "       char, logical\n",
      " \n",
      "    See also BSXFUN, MESHGRID, ONES, ZEROS, NAN, INF.\n",
      "\n",
      "    Other functions named repmat\n",
      "\n",
      "       codistributed/repmat    InputOutputModel/repmat    tall/repmat\n",
      "       gpuArray/repmat         symfun/repmat\n",
      "\n"
     ]
    }
   ],
   "source": [
    "help repmat"
   ]
  }
 ],
 "metadata": {
  "kernelspec": {
   "display_name": "Matlab",
   "language": "matlab",
   "name": "matlab"
  },
  "language_info": {
   "codemirror_mode": "octave",
   "file_extension": ".m",
   "help_links": [
    {
     "text": "MetaKernel Magics",
     "url": "https://github.com/calysto/metakernel/blob/master/metakernel/magics/README.md"
    }
   ],
   "mimetype": "text/x-octave",
   "name": "matlab",
   "version": "0.15.1"
  }
 },
 "nbformat": 4,
 "nbformat_minor": 2
}

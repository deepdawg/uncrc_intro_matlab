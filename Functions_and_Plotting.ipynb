{
 "cells": [
  {
   "cell_type": "markdown",
   "metadata": {},
   "source": [
    "# IV. Functions and Plotting"
   ]
  },
  {
   "cell_type": "markdown",
   "metadata": {},
   "source": [
    "Functions are routines that are general and applicable to many problems. As we've already seen, Matlab has numerous built-in functions you can use. In this notebook, we'll go over how to write your own functions. Finally, we'll see how to create basic plots in Matlab."
   ]
  },
  {
   "cell_type": "markdown",
   "metadata": {},
   "source": [
    "To define a Matlab function:\n",
    "\n",
    "* Decide on a name for your function. Be sure that the name you choose does not conflict with the name of a function already used in Matlab.\n",
    "* Document the function, i.e. add comments that describe what the function does, what arguments it accepts, what it returns.\n",
    "* The first line in your function should have this format: <br />\n",
    "function [list of outputs] = functionname(list of inputs)\n",
    "* Save the function as a m-file. You should give the m-file the same name as functionname.\n",
    "* In your Matlab code call the function by its file name. For this reason you should give the m-file the same name as the function name."
   ]
  },
  {
   "cell_type": "markdown",
   "metadata": {},
   "source": [
    "Suppose we want to define a function to calculate the $l_{p}$ norm of a vector __x__ of length n: <br \\>\n",
    "$$\\Big(\\sum_{i=1}^{n} \\left|x_{i}\\right|^{p}\\Big)^{\\frac{1}{p}} $$"
   ]
  },
  {
   "cell_type": "markdown",
   "metadata": {},
   "source": [
    "So the user passes a vector of length n and the value of p (where p is an integer) into the function and the function will compute the above quantity and return the scalar result. Suppose we want to call the function *mylpnorm*. The first line of the function will be: <br \\>\n",
    "\n",
    "function [result] = mylpnorm(x,p)"
   ]
  },
  {
   "cell_type": "markdown",
   "metadata": {},
   "source": [
    "However we need to write some Matlab code to compute the desired result. So the function will look like:"
   ]
  },
  {
   "cell_type": "markdown",
   "metadata": {},
   "source": [
    "function [result] = mylpnorm(x,p) <br \\>\n",
    "&nbsp;&nbsp;&nbsp; result = (sum(abs(x).^p))^(1/p) <br \\>\n",
    "end"
   ]
  },
  {
   "cell_type": "code",
   "execution_count": 15,
   "metadata": {},
   "outputs": [
    {
     "name": "stdout",
     "output_type": "stream",
     "text": [
      "\n",
      "w =\n",
      "\n",
      "    4.6570\n",
      "\n"
     ]
    }
   ],
   "source": [
    "%Create a vector x and set p to 2 to test the function\n",
    "x = [1 -2 3 4 -1];p=3;\n",
    "w = mylpnorm(x,p)"
   ]
  },
  {
   "cell_type": "markdown",
   "metadata": {},
   "source": [
    "As stated before, we should add some comments to the function to document the function:\n",
    "\n",
    "function [result] = mylpnorm(x,p) <br \\>\n",
    "% Function to calculate the lp norm of a vector <br \\>\n",
    "% Input: x (vector), p (scalar integer) <br \\>\n",
    "% Output: result <br \\>\n",
    "\n",
    "&nbsp;&nbsp;&nbsp; result = (sum(abs(x).^p))^(1/p) <br \\>\n",
    "end"
   ]
  },
  {
   "cell_type": "markdown",
   "metadata": {},
   "source": [
    "The function works as before, but by inserting comments you can now use __help__ on your function to get a description of the function."
   ]
  },
  {
   "cell_type": "code",
   "execution_count": 2,
   "metadata": {},
   "outputs": [
    {
     "name": "stdout",
     "output_type": "stream",
     "text": [
      "  Function to calculate the lp norm of a vector\n",
      "  Input: x (vector), p (scalar integer)\n",
      "  Output: result\n",
      "\n"
     ]
    }
   ],
   "source": [
    "help mylpnorm"
   ]
  },
  {
   "cell_type": "markdown",
   "metadata": {},
   "source": [
    "It can be helpful to include various forms of argument checking into your function. That is, in case the user calls the function using inappropriate arguments you can have the function throw an informative error. <br \\>\n",
    "\n",
    "For example, we know that our *mylpnorm* function requires two input arguments, so if the function is not called with two input arguments we can have it throw an error message to the screen. In Matlab you can do this by using the *narginchk* function. <br \\>\n",
    "\n",
    "function [result] = mylpnorm(x,p) <br \\>\n",
    "% Function to calculate the lp norm of a vector <br \\>\n",
    "% Input: x (vector), p (scalar integer) <br \\>\n",
    "% Output: result <br \\>\n",
    "&nbsp;&nbsp;&nbsp; narginchk(2,2) <br \\>\n",
    "&nbsp;&nbsp;&nbsp; result = (sum(abs(x).^p))^(1/p) <br \\>\n",
    "end\n"
   ]
  },
  {
   "cell_type": "code",
   "execution_count": 3,
   "metadata": {},
   "outputs": [
    {
     "name": "stderr",
     "output_type": "stream",
     "text": [
      "\u001b[0;31mError using mylpnorm (line 5)\n",
      "Not enough input arguments.\n",
      "\n",
      "\u001b[0m"
     ]
    }
   ],
   "source": [
    "mylpnorm(x)"
   ]
  },
  {
   "cell_type": "markdown",
   "metadata": {},
   "source": [
    "We may also want to make sure that the correct types of arguments are passed into the function. For example, we may want to ensure that our function *mylpnorm* is only used to calculate the norm of one dimensional vector. In this case, we'd have our function check the dimension of the __x__ argument, throw an error if __x__ is anything other than a vector, and stop execution. We can do all this using an __if__ statment along with the __error__ function."
   ]
  },
  {
   "cell_type": "markdown",
   "metadata": {},
   "source": [
    "function [result] = mylpnorm(x,p) <br \\>\n",
    "% Function to calculate the lp norm of a vector <br \\>\n",
    "% Input: x (vector), p (scalar integer) <br \\>\n",
    "% Output: result <br \\>\n",
    "&nbsp;&nbsp;&nbsp; narginchk(2,2) <br \\>\n",
    "&nbsp;&nbsp;&nbsp; sz = size(x) <br \\>\n",
    "&nbsp;&nbsp;&nbsp; if (length(sz) == 2) && (sz(1) == 1 || sz(2) == 1) <br \\>\n",
    "&nbsp;&nbsp;&nbsp;&nbsp;&nbsp;&nbsp; result = (sum(abs(x).^p))^(1/p) <br \\>\n",
    "&nbsp;&nbsp;&nbsp; else <br \\>\n",
    "&nbsp;&nbsp;&nbsp;&nbsp;&nbsp;&nbsp; msg = 'The first argument needs to be a one dimensional vector'; <br \\>\n",
    "&nbsp;&nbsp;&nbsp;&nbsp;&nbsp;&nbsp; error(msg) <br \\>\n",
    "&nbsp;&nbsp;&nbsp; end <br \\>\n",
    "end"
   ]
  },
  {
   "cell_type": "code",
   "execution_count": 14,
   "metadata": {},
   "outputs": [
    {
     "name": "stderr",
     "output_type": "stream",
     "text": [
      "\u001b[0;31mError using mylpnorm (line 11)\n",
      "The first argument needs to be a one dimensional vector\n",
      "\n",
      "\u001b[0m"
     ]
    }
   ],
   "source": [
    "A = [1 2; 3 4];\n",
    "mylpnorm(A,3)"
   ]
  },
  {
   "cell_type": "markdown",
   "metadata": {},
   "source": [
    "The last thing we'll cover is how to do some basic plotting in Matlab which will involve using Matlab's built-in __plot__ function. Let's first consider how to do a simple line plot."
   ]
  },
  {
   "cell_type": "code",
   "execution_count": 21,
   "metadata": {},
   "outputs": [
    {
     "data": {
      "image/png": "[encoded data removed]",
      "text/plain": [
       "<IPython.core.display.Image object>"
      ]
     },
     "metadata": {},
     "output_type": "display_data"
    }
   ],
   "source": [
    "%generate some data\n",
    "x = 0:pi/100:2*pi;\n",
    "y = sin(x);\n",
    "\n",
    "%construct the plot\n",
    "plot(x,y)\n",
    "\n",
    "%add some axis labels and a title\n",
    "xlabel('x = 0:2\\pi')\n",
    "ylabel('Sine of x')\n",
    "title('Plot of the Sine function')"
   ]
  },
  {
   "cell_type": "markdown",
   "metadata": {},
   "source": [
    "You can also do multiline plots pretty easily."
   ]
  },
  {
   "cell_type": "code",
   "execution_count": 23,
   "metadata": {},
   "outputs": [
    {
     "data": {
      "image/png": "[encoded data removed]",
      "text/plain": [
       "<IPython.core.display.Image object>"
      ]
     },
     "metadata": {},
     "output_type": "display_data"
    }
   ],
   "source": [
    "%generate some data\n",
    "x = 0:pi/100:2*pi;\n",
    "y1 = 2 * cos(x);\n",
    "y2 = cos(x);\n",
    "y3 = 0.5*cos(x);\n",
    "\n",
    "%construct the plot\n",
    "plot(x,y1,'--', x,y2,'-', x,y3,':')\n",
    "\n",
    "%add some features to the plot\n",
    "xlabel('0 \\leq x \\leq 2\\pi')\n",
    "ylabel('Cosine functions')\n",
    "legend('2*cos(x)','cos(x)','0.5*cos(x)')\n",
    "title('Example of multiline plot')"
   ]
  },
  {
   "cell_type": "markdown",
   "metadata": {},
   "source": [
    "# Exercise 4.\n",
    "\n",
    "1. Write a Matlab function called *eff* that calculates the following piecewise function on a vector input __x__:\n",
    "\n",
    "$$\n",
    "f(x) = \\left\\{\n",
    "        \\begin{array}{ll}\n",
    "            x^2 & \\quad x < 0.5 \\\\\n",
    "            0.25 & \\quad x \\ge 0.5\n",
    "        \\end{array}\n",
    "    \\right.\n",
    "$$\n",
    "\n",
    "2. Plot the function from part 1 for an input vector __x__ that takes values between -1 and 1 in increments of 0.1."
   ]
  },
  {
   "cell_type": "code",
   "execution_count": null,
   "metadata": {},
   "outputs": [],
   "source": []
  }
 ],
 "metadata": {
  "kernelspec": {
   "display_name": "Matlab",
   "language": "matlab",
   "name": "matlab"
  },
  "language_info": {
   "codemirror_mode": "octave",
   "file_extension": ".m",
   "help_links": [
    {
     "text": "MetaKernel Magics",
     "url": "https://github.com/calysto/metakernel/blob/master/metakernel/magics/README.md"
    }
   ],
   "mimetype": "text/x-octave",
   "name": "matlab",
   "version": "0.15.1"
  }
 },
 "nbformat": 4,
 "nbformat_minor": 2
}

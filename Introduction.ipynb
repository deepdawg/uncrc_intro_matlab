{
 "cells": [
  {
   "cell_type": "markdown",
   "metadata": {},
   "source": [
    "# I. Matlab Overview\n",
    "\n",
    "* What is Matlab? \n",
    "\n",
    "  Matlab (MATrix Laboratory) is a special-purpose scientific programming application designed for engineering,    \n",
    "  numerical, and scientific computaiton.\n",
    "\n",
    "\n",
    "* What are some advantages of Matlab? \n",
    "\n",
    "  Easy to use, powerful built-in routines and toolboxes, good programming environment with built-in editing and   \n",
    "  debugging tools.\n",
    "\n",
    "\n",
    "* What are some disadvantages of Matlab?\n",
    "\n",
    "  Matlab is an interpreted language so it can be slow versus traditional compiled languages (such as C, Fortran). It is \n",
    "  not great for string handling or text parsing in general. Matlab must be licensed from Mathworks, Inc."
   ]
  },
  {
   "cell_type": "markdown",
   "metadata": {},
   "source": [
    "# II. Getting Started\n",
    "\n",
    "Let's create a variable:"
   ]
  },
  {
   "cell_type": "code",
   "execution_count": 7,
   "metadata": {},
   "outputs": [
    {
     "name": "stdout",
     "output_type": "stream",
     "text": [
      "\n",
      "a =\n",
      "\n",
      "     2\n",
      "\n"
     ]
    }
   ],
   "source": [
    "a = 2"
   ]
  },
  {
   "cell_type": "markdown",
   "metadata": {},
   "source": [
    "Placing a semicolon at the end suppresses display of the variable:"
   ]
  },
  {
   "cell_type": "code",
   "execution_count": 8,
   "metadata": {},
   "outputs": [],
   "source": [
    "b = 2.3;"
   ]
  },
  {
   "cell_type": "markdown",
   "metadata": {},
   "source": [
    "You can create multiple variables in one line by separating them with a semicolon:"
   ]
  },
  {
   "cell_type": "code",
   "execution_count": 11,
   "metadata": {},
   "outputs": [],
   "source": [
    "c=4.2;d=3.9;e=9;"
   ]
  },
  {
   "cell_type": "markdown",
   "metadata": {},
   "source": [
    "Running the \"whos\" command shows you what variables are currently in your Matlab session:"
   ]
  },
  {
   "cell_type": "code",
   "execution_count": 13,
   "metadata": {},
   "outputs": [
    {
     "name": "stdout",
     "output_type": "stream",
     "text": [
      "  Name      Size            Bytes  Class     Attributes\n",
      "\n",
      "  a         1x1                 8  double              \n",
      "  ans       1x1                 8  double              \n",
      "  b         1x1                 8  double              \n",
      "  c         1x1                 8  double              \n",
      "  d         1x1                 8  double              \n",
      "  e         1x1                 8  double              \n",
      "\n"
     ]
    }
   ],
   "source": [
    "whos"
   ]
  },
  {
   "cell_type": "markdown",
   "metadata": {},
   "source": [
    "Doing \"clear\" will delete all variables:"
   ]
  },
  {
   "cell_type": "code",
   "execution_count": 16,
   "metadata": {},
   "outputs": [],
   "source": [
    "whos"
   ]
  },
  {
   "cell_type": "markdown",
   "metadata": {},
   "source": [
    "We can create a 3x1 matrix:"
   ]
  },
  {
   "cell_type": "code",
   "execution_count": 17,
   "metadata": {},
   "outputs": [
    {
     "name": "stdout",
     "output_type": "stream",
     "text": [
      "\n",
      "m =\n",
      "\n",
      "     1\n",
      "     2\n",
      "     3\n",
      "\n"
     ]
    }
   ],
   "source": [
    "m = [1;2;3]"
   ]
  },
  {
   "cell_type": "markdown",
   "metadata": {},
   "source": [
    "To check the dimension of \"m\" use the size command:"
   ]
  },
  {
   "cell_type": "code",
   "execution_count": 18,
   "metadata": {},
   "outputs": [
    {
     "name": "stdout",
     "output_type": "stream",
     "text": [
      "\n",
      "ans =\n",
      "\n",
      "     3     1\n",
      "\n"
     ]
    }
   ],
   "source": [
    "size(m)"
   ]
  },
  {
   "cell_type": "markdown",
   "metadata": {},
   "source": [
    "The size command outputs the number of rows by the number of columns. We can also assign the output of the size command to new variables. Here we create two variables \"nr\" and \"nc\":"
   ]
  },
  {
   "cell_type": "code",
   "execution_count": 21,
   "metadata": {},
   "outputs": [
    {
     "name": "stdout",
     "output_type": "stream",
     "text": [
      "\n",
      "nr =\n",
      "\n",
      "     3\n",
      "\n",
      "\n",
      "nc =\n",
      "\n",
      "     1\n",
      "\n"
     ]
    }
   ],
   "source": [
    "[nr nc] = size(m)"
   ]
  },
  {
   "cell_type": "code",
   "execution_count": 22,
   "metadata": {},
   "outputs": [
    {
     "name": "stdout",
     "output_type": "stream",
     "text": [
      "\n",
      "nr =\n",
      "\n",
      "     3\n",
      "\n"
     ]
    }
   ],
   "source": [
    "nr"
   ]
  },
  {
   "cell_type": "code",
   "execution_count": 23,
   "metadata": {},
   "outputs": [
    {
     "name": "stdout",
     "output_type": "stream",
     "text": [
      "\n",
      "nc =\n",
      "\n",
      "     1\n",
      "\n"
     ]
    }
   ],
   "source": [
    "nc"
   ]
  },
  {
   "cell_type": "markdown",
   "metadata": {},
   "source": [
    "To insert comments in your code use the \"%\" symbol in front of the text. This tells Matlab to ignore everything after the \"%\" sign on that line."
   ]
  },
  {
   "cell_type": "code",
   "execution_count": 27,
   "metadata": {},
   "outputs": [],
   "source": [
    "%This is a comment. This line will not get interpreted by Matlab."
   ]
  },
  {
   "cell_type": "markdown",
   "metadata": {},
   "source": [
    "Matlab has built-in help documentation on its commands:"
   ]
  },
  {
   "cell_type": "code",
   "execution_count": 28,
   "metadata": {},
   "outputs": [
    {
     "name": "stdout",
     "output_type": "stream",
     "text": [
      " LOG    Natural logarithm.\n",
      "    LOG(X) is the natural logarithm of the elements of X.\n",
      "    Complex results are produced if X is not positive.\n",
      " \n",
      "    See also LOG1P, LOG2, LOG10, EXP, LOGM, REALLOG.\n",
      "\n",
      "    Other functions named log\n",
      "\n",
      "       codistributed/log    fints/log    gpuArray/log    sym/log\n",
      "\n"
     ]
    }
   ],
   "source": [
    "help log"
   ]
  },
  {
   "cell_type": "markdown",
   "metadata": {},
   "source": [
    "As mentioned before there are a lot of built-in functions ready to use:"
   ]
  },
  {
   "cell_type": "code",
   "execution_count": 29,
   "metadata": {},
   "outputs": [
    {
     "name": "stdout",
     "output_type": "stream",
     "text": [
      "  Elementary math functions.\n",
      " \n",
      "  Trigonometric.\n",
      "    sin         - Sine.\n",
      "    sind        - Sine of argument in degrees.\n",
      "    sinh        - Hyperbolic sine.\n",
      "    asin        - Inverse sine.\n",
      "    asind       - Inverse sine, result in degrees.\n",
      "    asinh       - Inverse hyperbolic sine.\n",
      "    cos         - Cosine.\n",
      "    cosd        - Cosine of argument in degrees.\n",
      "    cosh        - Hyperbolic cosine.\n",
      "    acos        - Inverse cosine.\n",
      "    acosd       - Inverse cosine, result in degrees.\n",
      "    acosh       - Inverse hyperbolic cosine.\n",
      "    tan         - Tangent.\n",
      "    tand        - Tangent of argument in degrees.\n",
      "    tanh        - Hyperbolic tangent.\n",
      "    atan        - Inverse tangent.\n",
      "    atand       - Inverse tangent, result in degrees.\n",
      "    atan2       - Four quadrant inverse tangent.\n",
      "    atan2d      - Four quadrant inverse tangent, result in degrees.\n",
      "    atanh       - Inverse hyperbolic tangent.\n",
      "    sec         - Secant.\n",
      "    secd        - Secant of argument in degrees.\n",
      "    sech        - Hyperbolic secant.\n",
      "    asec        - Inverse secant.\n",
      "    asecd       - Inverse secant, result in degrees.\n",
      "    asech       - Inverse hyperbolic secant.\n",
      "    csc         - Cosecant.\n",
      "    cscd        - Cosecant of argument in degrees.\n",
      "    csch        - Hyperbolic cosecant.\n",
      "    acsc        - Inverse cosecant.\n",
      "    acscd       - Inverse cosecant, result in degrees.\n",
      "    acsch       - Inverse hyperbolic cosecant.\n",
      "    cot         - Cotangent.\n",
      "    cotd        - Cotangent of argument in degrees.\n",
      "    coth        - Hyperbolic cotangent.\n",
      "    acot        - Inverse cotangent.\n",
      "    acotd       - Inverse cotangent, result in degrees.\n",
      "    acoth       - Inverse hyperbolic cotangent.\n",
      "    hypot       - Square root of sum of squares.\n",
      "    deg2rad     - Convert angles from degrees to radians.\n",
      "    rad2deg     - Convert angles from radians to degrees.\n",
      " \n",
      "  Exponential.\n",
      "    exp         - Exponential.\n",
      "    expm1       - Compute exp(x)-1 accurately.\n",
      "    log         - Natural logarithm.\n",
      "    log1p       - Compute log(1+x) accurately.\n",
      "    log10       - Common (base 10) logarithm.\n",
      "    log2        - Base 2 logarithm and dissect floating point number.\n",
      "    pow2        - Base 2 power and scale floating point number.\n",
      "    realpow     - Power that will error out on complex result.\n",
      "    reallog     - Natural logarithm of real number.\n",
      "    realsqrt    - Square root of number greater than or equal to zero.\n",
      "    sqrt        - Square root.\n",
      "    nthroot     - Real n-th root of real numbers.\n",
      "    nextpow2    - Next higher power of 2.\n",
      " \n",
      "  Complex.\n",
      "    abs         - Absolute value.\n",
      "    angle       - Phase angle.\n",
      "    complex     - Construct complex data from real and imaginary parts.\n",
      "    conj        - Complex conjugate.\n",
      "    imag        - Complex imaginary part.\n",
      "    real        - Complex real part.\n",
      "    unwrap      - Unwrap phase angle.\n",
      "    isreal      - True for real array.\n",
      "    cplxpair    - Sort numbers into complex conjugate pairs.\n",
      " \n",
      "  Rounding and remainder.\n",
      "    fix         - Round towards zero.\n",
      "    floor       - Round towards minus infinity.\n",
      "    ceil        - Round towards plus infinity.\n",
      "    round       - Round towards nearest integer.\n",
      "    mod         - Modulus (signed remainder after division).\n",
      "    rem         - Remainder after division.\n",
      "    sign        - Signum.\n",
      "\n"
     ]
    }
   ],
   "source": [
    "help elfun"
   ]
  },
  {
   "cell_type": "code",
   "execution_count": 30,
   "metadata": {},
   "outputs": [
    {
     "name": "stdout",
     "output_type": "stream",
     "text": [
      "  Specialized math functions.\n",
      " \n",
      "  Specialized math functions.\n",
      "    airy        - Airy functions.\n",
      "    besselj     - Bessel function of the first kind.\n",
      "    bessely     - Bessel function of the second kind.\n",
      "    besselh     - Bessel functions of the third kind (Hankel function).\n",
      "    besseli     - Modified Bessel function of the first kind.\n",
      "    besselk     - Modified Bessel function of the second kind.\n",
      "    beta        - Beta function.\n",
      "    betainc     - Incomplete beta function.\n",
      "    betaincinv  - Inverse incomplete beta function.\n",
      "    betaln      - Logarithm of beta function.\n",
      "    ellipj      - Jacobi elliptic functions.\n",
      "    ellipke     - Complete elliptic integral.\n",
      "    erf         - Error function.\n",
      "    erfc        - Complementary error function.\n",
      "    erfcx       - Scaled complementary error function.\n",
      "    erfinv      - Inverse error function.\n",
      "    erfcinv     - Inverse complementary error function.\n",
      "    expint      - Exponential integral function.\n",
      "    gamma       - Gamma function.\n",
      "    gammainc    - Incomplete gamma function.\n",
      "    gammaincinv - Inverse incomplete gamma function. \n",
      "    gammaln     - Logarithm of gamma function.\n",
      "    psi         - Psi (polygamma) function.\n",
      "    legendre    - Associated Legendre function.\n",
      "    cross       - Vector cross product.\n",
      "    dot         - Vector dot product.\n",
      " \n",
      "  Number theoretic functions.\n",
      "    factor      - Prime factors.\n",
      "    isprime     - True for prime numbers.\n",
      "    primes      - Generate list of prime numbers.\n",
      "    gcd         - Greatest common divisor.\n",
      "    lcm         - Least common multiple.\n",
      "    rat         - Rational approximation.\n",
      "    rats        - Rational output.\n",
      "    perms       - All possible permutations.\n",
      "    nchoosek    - All combinations of N elements taken K at a time.\n",
      "    factorial   - Factorial function.\n",
      " \n",
      "  Coordinate transforms.\n",
      "    cart2sph    - Transform Cartesian to spherical coordinates.\n",
      "    cart2pol    - Transform Cartesian to polar coordinates.\n",
      "    pol2cart    - Transform polar to Cartesian coordinates.\n",
      "    sph2cart    - Transform spherical to Cartesian coordinates.\n",
      "    hsv2rgb     - Convert hue-saturation-value colors to red-green-blue.\n",
      "    rgb2hsv     - Convert red-green-blue colors to hue-saturation-value.\n",
      "\n"
     ]
    }
   ],
   "source": [
    "help specfun"
   ]
  }
 ],
 "metadata": {
  "kernelspec": {
   "display_name": "Matlab",
   "language": "matlab",
   "name": "matlab"
  },
  "language_info": {
   "codemirror_mode": "octave",
   "file_extension": ".m",
   "help_links": [
    {
     "text": "MetaKernel Magics",
     "url": "https://github.com/calysto/metakernel/blob/master/metakernel/magics/README.md"
    }
   ],
   "mimetype": "text/x-octave",
   "name": "matlab",
   "version": "0.15.1"
  }
 },
 "nbformat": 4,
 "nbformat_minor": 2
}
